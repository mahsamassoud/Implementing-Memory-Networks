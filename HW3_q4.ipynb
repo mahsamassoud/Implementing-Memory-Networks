{
  "nbformat": 4,
  "nbformat_minor": 0,
  "metadata": {
    "colab": {
      "name": "HW3-q4.ipynb",
      "provenance": []
    },
    "kernelspec": {
      "name": "python3",
      "display_name": "Python 3"
    },
    "language_info": {
      "name": "python"
    }
  },
  "cells": [
    {
      "cell_type": "code",
      "metadata": {
        "id": "D7s1cLCQuPVw"
      },
      "source": [
        "import numpy as np\n",
        "import random\n",
        "import copy\n",
        "import matplotlib.pyplot as plt"
      ],
      "execution_count": 3,
      "outputs": []
    },
    {
      "cell_type": "code",
      "metadata": {
        "id": "xObfXKMauYBB"
      },
      "source": [
        ""
      ],
      "execution_count": 86,
      "outputs": []
    },
    {
      "cell_type": "code",
      "metadata": {
        "id": "srdM7vniMAyn"
      },
      "source": [
        "def corr(lst):\n",
        "   return [(i*2)-1 for i in lst]\n"
      ],
      "execution_count": 62,
      "outputs": []
    },
    {
      "cell_type": "code",
      "metadata": {
        "id": "1_oCA-HIEMIv"
      },
      "source": [
        "XA = corr([\n",
        "          0,1,0,\n",
        "          1,0,1,\n",
        "          1,1,1,\n",
        "          1,0,1,\n",
        "          1,0,1\n",
        "       ])\n",
        "XB = corr([1, 1, 0,\n",
        "      1, 0, 1,\n",
        "      1, 1, 0,\n",
        "      1, 0, 1,\n",
        "      1, 1, 0 ])\n",
        "XC = corr([0, 1, 1,\n",
        "      1, 0, 0,\n",
        "      1, 0, 0,\n",
        "      1, 0, 0,\n",
        "      0, 1, 1 ])\n",
        "XD = corr([1, 1, 0,\n",
        "      1, 0, 1,\n",
        "      1, 0, 1,\n",
        "      1, 0, 1,\n",
        "      1, 1, 0 ])\n",
        "XE= corr([1, 1, 1,\n",
        "      1, 0, 0,\n",
        "      1, 1, 0,\n",
        "      1, 0, 0,\n",
        "      1, 1, 1 ])\n",
        "XF= corr([1, 1, 1,\n",
        "      1, 0, 0,\n",
        "      1, 1, 0,\n",
        "      1, 0, 0,\n",
        "      1, 0, 0 ])\n",
        "XG =corr([0, 1, 1,\n",
        "      1, 0, 0,\n",
        "      1, 0, 1,\n",
        "      1, 0, 1,\n",
        "      0, 1, 1 ])\n",
        "XH = corr([1, 0, 1,\n",
        "      1, 0, 1,\n",
        "      1, 1, 1,\n",
        "      1, 0, 1,\n",
        "      1, 0, 1 ])\n",
        "\n",
        "YA = [-1, -1, -1]\n",
        "YB = [-1, -1, 1]\n",
        "YC = [-1, 1, -1]\n",
        "YD = [-1, 1, 1]\n",
        "YE = [1, -1, -1]\n",
        "YF = [1, -1, 1]\n",
        "YG = [1, 1, -1]\n",
        "YH = [1, 1, 1]"
      ],
      "execution_count": 88,
      "outputs": []
    },
    {
      "cell_type": "code",
      "metadata": {
        "colab": {
          "base_uri": "https://localhost:8080/"
        },
        "id": "AtYxQk7HJkLR",
        "outputId": "8ab7e2b2-52ff-444c-a028-49a8d954a0c6"
      },
      "source": [
        "XB"
      ],
      "execution_count": 89,
      "outputs": [
        {
          "output_type": "execute_result",
          "data": {
            "text/plain": [
              "[1, 1, -1, 1, -1, 1, 1, 1, -1, 1, -1, 1, 1, 1, -1]"
            ]
          },
          "metadata": {
            "tags": []
          },
          "execution_count": 89
        }
      ]
    },
    {
      "cell_type": "code",
      "metadata": {
        "id": "KLL2btWuuYDH"
      },
      "source": [
        "letters = [np.array(XA), np.array(XB), np.array(XC)]\n",
        "outputs = [np.array(YA), np.array(YB), np.array(YC)]"
      ],
      "execution_count": 90,
      "outputs": []
    },
    {
      "cell_type": "markdown",
      "metadata": {
        "id": "_KEUezQOwMY3"
      },
      "source": [
        "## Initializing weight matrixes"
      ]
    },
    {
      "cell_type": "code",
      "metadata": {
        "id": "6XCWYJazuYFF"
      },
      "source": [
        "W = np.zeros([15, 3])\n",
        "W = np.array(W)"
      ],
      "execution_count": 91,
      "outputs": []
    },
    {
      "cell_type": "markdown",
      "metadata": {
        "id": "UuGpFNGTwXIM"
      },
      "source": [
        "## Training Model"
      ]
    },
    {
      "cell_type": "code",
      "metadata": {
        "id": "vlyEYNeHuYHD"
      },
      "source": [
        "for index in range(3):\n",
        "  s = letters[index]\n",
        "  t = outputs[index]\n",
        "  W += np.dot(s.reshape(15, 1), np.transpose(t).reshape(1, 3))"
      ],
      "execution_count": 92,
      "outputs": []
    },
    {
      "cell_type": "code",
      "metadata": {
        "colab": {
          "base_uri": "https://localhost:8080/"
        },
        "id": "A6rPrrmtw58D",
        "outputId": "48f5dd4a-ad24-4f33-e3f4-dba13d22dd27"
      },
      "source": [
        "W"
      ],
      "execution_count": 93,
      "outputs": [
        {
          "output_type": "execute_result",
          "data": {
            "text/plain": [
              "array([[ 1., -1.,  3.],\n",
              "       [-3., -1., -1.],\n",
              "       [ 1.,  3., -1.],\n",
              "       [-3., -1., -1.],\n",
              "       [ 3.,  1.,  1.],\n",
              "       [-1., -3.,  1.],\n",
              "       [-3., -1., -1.],\n",
              "       [-1., -3.,  1.],\n",
              "       [ 1., -1., -1.],\n",
              "       [-3., -1., -1.],\n",
              "       [ 3.,  1.,  1.],\n",
              "       [-1., -3.,  1.],\n",
              "       [-1., -3.,  1.],\n",
              "       [-1.,  1.,  1.],\n",
              "       [-1.,  1., -3.]])"
            ]
          },
          "metadata": {
            "tags": []
          },
          "execution_count": 93
        }
      ]
    },
    {
      "cell_type": "markdown",
      "metadata": {
        "id": "0MC1n2BvxX-g"
      },
      "source": [
        "## Testing ability of network trained with 3 letters on data without noise"
      ]
    },
    {
      "cell_type": "code",
      "metadata": {
        "colab": {
          "base_uri": "https://localhost:8080/"
        },
        "id": "Hw_nHiAnuYJG",
        "outputId": "74ca3178-87a6-4cdd-cd21-8fad46260072"
      },
      "source": [
        "theta = 0\n",
        "x = np.zeros(15)\n",
        "y = np.zeros(3)\n",
        "for index in range(3):\n",
        "  x = copy.deepcopy(letters[index])\n",
        "  y = copy.deepcopy(outputs[index])\n",
        "  counter = 0\n",
        "  flag = False\n",
        "  while True:\n",
        "    counter += 1\n",
        "    if flag:\n",
        "      changes = 0\n",
        "      for i in range(15):\n",
        "        if oldx[i] != x[i]:\n",
        "          changes += 1\n",
        "      for i in range(3):\n",
        "        if oldy[i] != y[i]:\n",
        "          changes += 1\n",
        "      if changes == 0:\n",
        "        break\n",
        "    flag = True\n",
        "    oldx = copy.deepcopy(x)\n",
        "    oldy = copy.deepcopy(y)\n",
        "    for j in range(3):\n",
        "      yin = 0\n",
        "      for i in range(15):\n",
        "        yin += x[i] * W[i][j]\n",
        "      if yin > theta:\n",
        "        y[j] = 1\n",
        "      elif yin < theta:\n",
        "        y[j] = -1\n",
        "    for i in range(15):\n",
        "      xin = 0\n",
        "      for j in range(3):\n",
        "        xin += y[j] * W[i][j]\n",
        "      if xin > theta:\n",
        "        x[i] = 1\n",
        "      elif xin < theta:\n",
        "        x[i] = -1\n",
        "\n",
        "  print(\"iterations:\", counter)\n",
        "  print(\"Real Input: \", letters[index])\n",
        "  print(\"Final input:\", x.astype(int))\n",
        "  print(\"Real Output: \", outputs[index])\n",
        "  print(\"Final output:\", y.astype(int))\n",
        "  errorx = 0\n",
        "  for i in range(15):\n",
        "    if int(x[i]) != int(letters[index][i]):\n",
        "        errorx += 1\n",
        "  print(\"Error : \", errorx)\n",
        "  errory = 0\n",
        "  for i in range(3):\n",
        "    if int(y[i]) != int(outputs[index][i]):\n",
        "        errory += 1\n",
        "  print(\"Error :\", errory)"
      ],
      "execution_count": 94,
      "outputs": [
        {
          "output_type": "stream",
          "text": [
            "iterations: 2\n",
            "Real Input:  [-1  1 -1  1 -1  1  1  1  1  1 -1  1  1 -1  1]\n",
            "Final input: [-1  1 -1  1 -1  1  1  1  1  1 -1  1  1 -1  1]\n",
            "Real Output:  [-1 -1 -1]\n",
            "Final output: [-1 -1 -1]\n",
            "Error :  0\n",
            "Error : 0\n",
            "iterations: 2\n",
            "Real Input:  [ 1  1 -1  1 -1  1  1  1 -1  1 -1  1  1  1 -1]\n",
            "Final input: [ 1  1 -1  1 -1  1  1  1 -1  1 -1  1  1  1 -1]\n",
            "Real Output:  [-1 -1  1]\n",
            "Final output: [-1 -1  1]\n",
            "Error :  0\n",
            "Error : 0\n",
            "iterations: 2\n",
            "Real Input:  [-1  1  1  1 -1 -1  1 -1 -1  1 -1 -1 -1  1  1]\n",
            "Final input: [-1  1  1  1 -1 -1  1 -1 -1  1 -1 -1 -1  1  1]\n",
            "Real Output:  [-1  1 -1]\n",
            "Final output: [-1  1 -1]\n",
            "Error :  0\n",
            "Error : 0\n"
          ],
          "name": "stdout"
        }
      ]
    },
    {
      "cell_type": "markdown",
      "metadata": {
        "id": "BXJxeof8LcJd"
      },
      "source": [
        "## Testing ability of network trained with 3 letters on data with 10% noise"
      ]
    },
    {
      "cell_type": "code",
      "metadata": {
        "colab": {
          "base_uri": "https://localhost:8080/"
        },
        "id": "PsVzCIMEuYKp",
        "outputId": "0d50ff27-93d4-40be-c362-dc34953e23d7"
      },
      "source": [
        "theta = 0\n",
        "errorx_sum = 0\n",
        "errory_sum = 0\n",
        "counters = 0\n",
        "for k in range(100):\n",
        "  x = np.zeros(15)\n",
        "  y = np.zeros(3)\n",
        "  for index in range(3):\n",
        "    x = copy.deepcopy(letters[index])\n",
        "    for i in range(15):\n",
        "      if random.random() <= 0.1:\n",
        "        x[i] = x[i] * -1\n",
        "    y = copy.deepcopy(outputs[index])\n",
        "    for i in range(3):\n",
        "      if random.random() <= 0.1:\n",
        "        y[i] = y[i] * -1\n",
        "    counter = 0\n",
        "    flag = False\n",
        "    while True:\n",
        "      counter += 1\n",
        "      if flag:\n",
        "        changes = 0\n",
        "        for i in range(15):\n",
        "          if oldx[i] != x[i]:\n",
        "            changes += 1\n",
        "        for i in range(3):\n",
        "          if oldy[i] != y[i]:\n",
        "            changes += 1\n",
        "        if changes == 0:\n",
        "          break\n",
        "      flag = True\n",
        "      oldx = copy.deepcopy(x)\n",
        "      oldy = copy.deepcopy(y)\n",
        "      for j in range(3):\n",
        "        yin = 0\n",
        "        for i in range(15):\n",
        "          yin += x[i] * W[i][j]\n",
        "        if yin > theta:\n",
        "          y[j] = 1\n",
        "        elif yin < theta:\n",
        "          y[j] = -1\n",
        "      for i in range(15):\n",
        "        xin = 0\n",
        "        for j in range(3):\n",
        "          xin += y[j] * W[i][j]\n",
        "        if xin > theta:\n",
        "          x[i] = 1\n",
        "        elif xin < theta:\n",
        "          x[i] = -1\n",
        "    counters += counter\n",
        "  errorx = 0\n",
        "  for i in range(15):\n",
        "    if int(x[i]) != int(letters[index][i]):\n",
        "        errorx += 1\n",
        "  flag2 = False\n",
        "  errory = 0\n",
        "  for i in range(3):\n",
        "    if int(y[i]) != int(outputs[index][i]):\n",
        "      flag2 = True\n",
        "    if flag2:\n",
        "      errory += 1\n",
        "  errorx_sum += errorx\n",
        "  errory_sum += errory\n",
        "print(\"Average accuracy for number of correct pixels of input: \", 1 - (errorx_sum  / (3 * 100 * 15)))\n",
        "print(\"Average acuracy of predicted output:\", 1 - (errory_sum / (3 * 100)))\n",
        "print(\"Average number of iterations:\", int(counters / (3 * 100)))"
      ],
      "execution_count": 95,
      "outputs": [
        {
          "output_type": "stream",
          "text": [
            "Average accuracy for number of correct pixels of input:  0.9897777777777778\n",
            "Average acuracy of predicted output: 0.9466666666666667\n",
            "Average number of iterations: 2\n"
          ],
          "name": "stdout"
        }
      ]
    },
    {
      "cell_type": "markdown",
      "metadata": {
        "id": "TG-NRkmGLivk"
      },
      "source": [
        "## Testing ability of network trained with 3 letters on data with 40% noise"
      ]
    },
    {
      "cell_type": "code",
      "metadata": {
        "colab": {
          "base_uri": "https://localhost:8080/"
        },
        "id": "gjDZTsrAxoM4",
        "outputId": "f8379deb-f7ff-46ff-c164-d390f7b7a9fc"
      },
      "source": [
        "theta = 0\n",
        "errorx_sum = 0\n",
        "errory_sum = 0\n",
        "counters = 0\n",
        "for k in range(100):\n",
        "  x = np.zeros(15)\n",
        "  y = np.zeros(3)\n",
        "  for index in range(3):\n",
        "    x = copy.deepcopy(letters[index])\n",
        "    for i in range(15):\n",
        "      if random.random() <= 0.4:\n",
        "        x[i] = x[i] * -1\n",
        "    y = copy.deepcopy(outputs[index])\n",
        "    for i in range(3):\n",
        "      if random.random() <= 0.4:\n",
        "        y[i] = y[i] * -1\n",
        "    counter = 0\n",
        "    flag = False\n",
        "    while True:\n",
        "      counter += 1\n",
        "      if flag:\n",
        "        changes = 0\n",
        "        for i in range(15):\n",
        "          if oldx[i] != x[i]:\n",
        "            changes += 1\n",
        "        for i in range(3):\n",
        "          if oldy[i] != y[i]:\n",
        "            changes += 1\n",
        "        if changes == 0:\n",
        "          break\n",
        "      flag = True\n",
        "      oldx = copy.deepcopy(x)\n",
        "      oldy = copy.deepcopy(y)\n",
        "      for j in range(3):\n",
        "        yin = 0\n",
        "        for i in range(15):\n",
        "          yin += x[i] * W[i][j]\n",
        "        if yin > theta:\n",
        "          y[j] = 1\n",
        "        elif yin < theta:\n",
        "          y[j] = -1\n",
        "      for i in range(15):\n",
        "        xin = 0\n",
        "        for j in range(3):\n",
        "          xin += y[j] * W[i][j]\n",
        "        if xin > theta:\n",
        "          x[i] = 1\n",
        "        elif xin < theta:\n",
        "          x[i] = -1\n",
        "    counters += counter\n",
        "  errorx = 0\n",
        "  for i in range(15):\n",
        "    if int(x[i]) != int(letters[index][i]):\n",
        "        errorx += 1\n",
        "  flag2 = False\n",
        "  errory = 0\n",
        "  for i in range(3):\n",
        "    if int(y[i]) != int(outputs[index][i]):\n",
        "      flag2 = True\n",
        "    if flag2:\n",
        "      errory += 1\n",
        "  errorx_sum += errorx\n",
        "  errory_sum += errory\n",
        "print(\"Average accuracy for number of correct pixels of input: \", 1 - (errorx_sum  / (3 * 100 * 15)))\n",
        "print(\"Average accuracy of predicted output:\", 1 - (errory_sum / (3 * 100)))\n",
        "print(\"Average number of iterations:\", int(counters / (3 * 100)))"
      ],
      "execution_count": 96,
      "outputs": [
        {
          "output_type": "stream",
          "text": [
            "Average accuracy for number of correct pixels of input:  0.8917777777777778\n",
            "Average accuracy of predicted output: 0.4733333333333334\n",
            "Average number of iterations: 3\n"
          ],
          "name": "stdout"
        }
      ]
    },
    {
      "cell_type": "markdown",
      "metadata": {
        "id": "6a8hNuMS9oE8"
      },
      "source": [
        "## Checking if our model can identify (0, -1, -1)"
      ]
    },
    {
      "cell_type": "code",
      "metadata": {
        "colab": {
          "base_uri": "https://localhost:8080/"
        },
        "id": "OMaM1RjY9nsd",
        "outputId": "5c93444a-bf40-4c5e-fa8c-b2bf8dd1d0bf"
      },
      "source": [
        "theta = 0\n",
        "x = np.zeros(15)\n",
        "y = np.array([0, -1, -1])\n",
        "counter = 0\n",
        "flag = False\n",
        "while True:\n",
        "  counter += 1\n",
        "  if flag:\n",
        "    changes = 0\n",
        "    for i in range(15):\n",
        "      if oldx[i] != x[i]:\n",
        "        changes += 1\n",
        "    for i in range(3):\n",
        "      if oldy[i] != y[i]:\n",
        "        changes += 1\n",
        "    if changes == 0:\n",
        "      break\n",
        "  flag = True\n",
        "  oldx = copy.deepcopy(x)\n",
        "  oldy = copy.deepcopy(y)\n",
        "  for j in range(3):\n",
        "    yin = 0\n",
        "    for i in range(15):\n",
        "      yin += x[i] * W[i][j]\n",
        "    if yin > theta:\n",
        "      y[j] = 1\n",
        "    elif yin < theta:\n",
        "      y[j] = -1\n",
        "  for i in range(15):\n",
        "    xin = 0\n",
        "    for j in range(3):\n",
        "      xin += y[j] * W[i][j]\n",
        "    if xin > theta:\n",
        "      x[i] = 1\n",
        "    elif xin < theta:\n",
        "      x[i] = -1\n",
        "\n",
        "print(\"iterations:\", counter)\n",
        "print(\"Real Input: \", letters[0])\n",
        "print(\"Final input:\", x.astype(int))\n",
        "print(\"Real Output: \", outputs[0])\n",
        "print(\"Final output:\", y.astype(int))\n",
        "errorx = 0\n",
        "for i in range(15):\n",
        "  if int(x[i]) != int(letters[0][i]):\n",
        "      errorx += 1\n",
        "print(\"Error : \", errorx)\n",
        "errory = 0\n",
        "for i in range(3):\n",
        "  if int(y[i]) != int(outputs[0][i]):\n",
        "      errory += 1\n",
        "print(\"Error of output:\", errory)"
      ],
      "execution_count": 97,
      "outputs": [
        {
          "output_type": "stream",
          "text": [
            "iterations: 4\n",
            "Real Input:  [-1  1 -1  1 -1  1  1  1  1  1 -1  1  1 -1  1]\n",
            "Final input: [-1  1 -1  1 -1  1  1  1  1  1 -1  1  1 -1  1]\n",
            "Real Output:  [-1 -1 -1]\n",
            "Final output: [-1 -1 -1]\n",
            "Error :  0\n",
            "Error of output: 0\n"
          ],
          "name": "stdout"
        }
      ]
    },
    {
      "cell_type": "markdown",
      "metadata": {
        "id": "gMin3sbkU8k1"
      },
      "source": [
        "## Generatiing dataset of 8 letters"
      ]
    },
    {
      "cell_type": "code",
      "metadata": {
        "id": "DgDaOOelxoOx"
      },
      "source": [
        "all_letters = [np.array(XA), np.array(XB), np.array(XC), np.array(XD), np.array(XE), np.array(XF), np.array(XG), np.array(XH)]\n",
        "all_outputs = [np.array(YA), np.array(YB), np.array(YC), np.array(YD), np.array(YE), np.array(YF), np.array(YG), np.array(YH)]"
      ],
      "execution_count": 98,
      "outputs": []
    },
    {
      "cell_type": "markdown",
      "metadata": {
        "id": "-OSHb02EZkDd"
      },
      "source": [
        "## Weight initialization"
      ]
    },
    {
      "cell_type": "code",
      "metadata": {
        "id": "sJu1Hf9pURop"
      },
      "source": [
        "W = np.zeros([15, 3])\n",
        "W = np.array(W)"
      ],
      "execution_count": 99,
      "outputs": []
    },
    {
      "cell_type": "markdown",
      "metadata": {
        "id": "CO7y1uNRVCBU"
      },
      "source": [
        "## Training model"
      ]
    },
    {
      "cell_type": "code",
      "metadata": {
        "id": "9OZYV03cZcxB"
      },
      "source": [
        "for index in range(8):\n",
        "  s = all_letters[index]\n",
        "  t = all_outputs[index]\n",
        "  W += np.dot(s.reshape(15, 1), np.transpose(t).reshape(1, 3))"
      ],
      "execution_count": 100,
      "outputs": []
    },
    {
      "cell_type": "code",
      "metadata": {
        "colab": {
          "base_uri": "https://localhost:8080/"
        },
        "id": "ZOPouDMaV8Ij",
        "outputId": "50216a73-0a4a-4960-e175-1ed15106b47e"
      },
      "source": [
        "W"
      ],
      "execution_count": 101,
      "outputs": [
        {
          "output_type": "execute_result",
          "data": {
            "text/plain": [
              "array([[ 2., -2.,  6.],\n",
              "       [-2., -2., -2.],\n",
              "       [ 6.,  2., -2.],\n",
              "       [ 0.,  0.,  0.],\n",
              "       [ 0.,  0.,  0.],\n",
              "       [-4.,  0.,  4.],\n",
              "       [ 0.,  0.,  0.],\n",
              "       [ 2., -6.,  2.],\n",
              "       [ 0.,  4.,  0.],\n",
              "       [ 0.,  0.,  0.],\n",
              "       [ 0.,  0.,  0.],\n",
              "       [-2.,  2.,  2.],\n",
              "       [ 0., -4.,  4.],\n",
              "       [-2.,  2., -2.],\n",
              "       [ 2.,  2., -6.]])"
            ]
          },
          "metadata": {
            "tags": []
          },
          "execution_count": 101
        }
      ]
    },
    {
      "cell_type": "markdown",
      "metadata": {
        "id": "Bg22V0-SVGhN"
      },
      "source": [
        "## Testing ability of network trained with 8 letters on data without noise"
      ]
    },
    {
      "cell_type": "code",
      "metadata": {
        "colab": {
          "base_uri": "https://localhost:8080/"
        },
        "id": "j4IuF9jZURvm",
        "outputId": "c8ac8ab7-0c80-4e60-db5a-d09955e0e68e"
      },
      "source": [
        "theta = 0\n",
        "x = np.zeros(15)\n",
        "y = np.zeros(3)\n",
        "for index in range(8):\n",
        "  x = copy.deepcopy(all_letters[index])\n",
        "  y = copy.deepcopy(all_outputs[index])\n",
        "  counter = 0\n",
        "  flag = False\n",
        "  while True:\n",
        "    counter += 1\n",
        "    if flag:\n",
        "      changes = 0\n",
        "      for i in range(15):\n",
        "        if oldx[i] != x[i]:\n",
        "          changes += 1\n",
        "      for i in range(3):\n",
        "        if oldy[i] != y[i]:\n",
        "          changes += 1\n",
        "      if changes == 0:\n",
        "        break\n",
        "    flag = True\n",
        "    oldx = copy.deepcopy(x)\n",
        "    oldy = copy.deepcopy(y)\n",
        "    for j in range(3):\n",
        "      yin = 0\n",
        "      for i in range(15):\n",
        "        yin += x[i] * W[i][j]\n",
        "      if yin > theta:\n",
        "        y[j] = 1\n",
        "      elif yin < theta:\n",
        "        y[j] = -1\n",
        "    for i in range(15):\n",
        "      xin = 0\n",
        "      for j in range(3):\n",
        "        xin += y[j] * W[i][j]\n",
        "      if xin > theta:\n",
        "        x[i] = 1\n",
        "      elif xin < theta:\n",
        "        x[i] = -1\n",
        "\n",
        "  print(\"iterations:\", counter)\n",
        "  print(\"Real Input: \", all_letters[index])\n",
        "  print(\"Final input:\", x.astype(int))\n",
        "  print(\"Real Output: \", all_outputs[index])\n",
        "  print(\"Final output:\", y.astype(int))\n",
        "  errorx = 0\n",
        "  for i in range(15):\n",
        "    if int(x[i]) != int(all_letters[index][i]):\n",
        "        errorx += 1\n",
        "  print(\"Error : \", errorx)\n",
        "  errory = 0\n",
        "  for i in range(3):\n",
        "    if int(y[i]) != int(all_outputs[index][i]):\n",
        "        errory += 1\n",
        "  print(\"Error of output:\", errory)"
      ],
      "execution_count": 102,
      "outputs": [
        {
          "output_type": "stream",
          "text": [
            "iterations: 3\n",
            "Real Input:  [-1  1 -1  1 -1  1  1  1  1  1 -1  1  1 -1  1]\n",
            "Final input: [ 1  1 -1  1 -1  1  1  1 -1  1 -1  1  1 -1 -1]\n",
            "Real Output:  [-1 -1 -1]\n",
            "Final output: [-1 -1  1]\n",
            "Error :  3\n",
            "Error of output: 1\n",
            "iterations: 3\n",
            "Real Input:  [ 1  1 -1  1 -1  1  1  1 -1  1 -1  1  1  1 -1]\n",
            "Final input: [ 1  1 -1  1 -1  1  1  1 -1  1 -1  1  1 -1 -1]\n",
            "Real Output:  [-1 -1  1]\n",
            "Final output: [-1 -1  1]\n",
            "Error :  1\n",
            "Error of output: 0\n",
            "iterations: 3\n",
            "Real Input:  [-1  1  1  1 -1 -1  1 -1 -1  1 -1 -1 -1  1  1]\n",
            "Final input: [-1 -1  1  1 -1 -1  1 -1  1  1 -1 -1 -1  1  1]\n",
            "Real Output:  [-1  1 -1]\n",
            "Final output: [ 1  1 -1]\n",
            "Error :  2\n",
            "Error of output: 1\n",
            "iterations: 3\n",
            "Real Input:  [ 1  1 -1  1 -1  1  1 -1  1  1 -1  1  1  1 -1]\n",
            "Final input: [ 1 -1 -1  1 -1  1  1 -1  1  1 -1  1  1  1 -1]\n",
            "Real Output:  [-1  1  1]\n",
            "Final output: [-1  1  1]\n",
            "Error :  1\n",
            "Error of output: 0\n",
            "iterations: 3\n",
            "Real Input:  [ 1  1  1  1 -1 -1  1  1 -1  1 -1 -1  1  1  1]\n",
            "Final input: [-1  1  1  1 -1 -1  1  1 -1  1 -1 -1  1 -1  1]\n",
            "Real Output:  [ 1 -1 -1]\n",
            "Final output: [ 1 -1 -1]\n",
            "Error :  2\n",
            "Error of output: 0\n",
            "iterations: 3\n",
            "Real Input:  [ 1  1  1  1 -1 -1  1  1 -1  1 -1 -1  1 -1 -1]\n",
            "Final input: [ 1 -1  1  1 -1 -1  1  1 -1  1 -1 -1  1 -1 -1]\n",
            "Real Output:  [ 1 -1  1]\n",
            "Final output: [ 1 -1  1]\n",
            "Error :  1\n",
            "Error of output: 0\n",
            "iterations: 3\n",
            "Real Input:  [-1  1  1  1 -1 -1  1 -1  1  1 -1  1 -1  1  1]\n",
            "Final input: [-1 -1  1  1 -1 -1  1 -1  1  1 -1 -1 -1  1  1]\n",
            "Real Output:  [ 1  1 -1]\n",
            "Final output: [ 1  1 -1]\n",
            "Error :  2\n",
            "Error of output: 0\n",
            "iterations: 3\n",
            "Real Input:  [ 1 -1  1  1 -1  1  1  1  1  1 -1  1  1 -1  1]\n",
            "Final input: [ 1 -1  1  1 -1  1  1  1 -1  1 -1 -1  1 -1 -1]\n",
            "Real Output:  [1 1 1]\n",
            "Final output: [ 1 -1  1]\n",
            "Error :  3\n",
            "Error of output: 1\n"
          ],
          "name": "stdout"
        }
      ]
    },
    {
      "cell_type": "markdown",
      "metadata": {
        "id": "Q_eJgTjNVTn2"
      },
      "source": [
        "## Testing ability of network trained with 8 letters on data with 10% noise"
      ]
    },
    {
      "cell_type": "code",
      "metadata": {
        "colab": {
          "base_uri": "https://localhost:8080/"
        },
        "id": "dqr48UMrURxz",
        "outputId": "20e52cbc-a84b-48e5-b95d-470cc984f383"
      },
      "source": [
        "theta = 0\n",
        "errorx_sum = 0\n",
        "errory_sum = 0\n",
        "counters = 0\n",
        "for k in range(100):\n",
        "  x = np.zeros(15)\n",
        "  y = np.zeros(3)\n",
        "  for index in range(8):\n",
        "    x = copy.deepcopy(all_letters[index])\n",
        "    for i in range(15):\n",
        "      if random.random() <= 0.1:\n",
        "        x[i] = x[i] * -1\n",
        "    y = copy.deepcopy(all_outputs[index])\n",
        "    for i in range(3):\n",
        "      if random.random() <= 0.1:\n",
        "        y[i] = y[i] * -1\n",
        "    counter = 0\n",
        "    flag = False\n",
        "    while True:\n",
        "      counter += 1\n",
        "      if flag:\n",
        "        changes = 0\n",
        "        for i in range(15):\n",
        "          if oldx[i] != x[i]:\n",
        "            changes += 1\n",
        "        for i in range(3):\n",
        "          if oldy[i] != y[i]:\n",
        "            changes += 1\n",
        "        if changes == 0:\n",
        "          break\n",
        "      flag = True\n",
        "      oldx = copy.deepcopy(x)\n",
        "      oldy = copy.deepcopy(y)\n",
        "      for j in range(3):\n",
        "        yin = 0\n",
        "        for i in range(15):\n",
        "          yin += x[i] * W[i][j]\n",
        "        if yin > theta:\n",
        "          y[j] = 1\n",
        "        elif yin < theta:\n",
        "          y[j] = -1\n",
        "      for i in range(15):\n",
        "        xin = 0\n",
        "        for j in range(3):\n",
        "          xin += y[j] * W[i][j]\n",
        "        if xin > theta:\n",
        "          x[i] = 1\n",
        "        elif xin < theta:\n",
        "          x[i] = -1\n",
        "    counters += counter\n",
        "  errorx = 0\n",
        "  for i in range(15):\n",
        "    if int(x[i]) != int(all_letters[index][i]):\n",
        "        errorx += 1\n",
        "  flag2 = False\n",
        "  errory = 0\n",
        "  for i in range(3):\n",
        "    if int(y[i]) != int(all_outputs[index][i]):\n",
        "      flag2 = True\n",
        "    if flag2:\n",
        "      errory += 1\n",
        "  errorx_sum += errorx\n",
        "  errory_sum += errory\n",
        "print(\"Average accuracy for number of correct pixels of input: \", 1 - (errorx_sum  / (8 * 100 * 15)))\n",
        "print(\"Average acuracy of predicted output:\", 1 - (errory_sum / (8 * 100)))\n",
        "print(\"Average number of iterations:\", int(counters / (8 * 100)))"
      ],
      "execution_count": 103,
      "outputs": [
        {
          "output_type": "stream",
          "text": [
            "Average accuracy for number of correct pixels of input:  0.97\n",
            "Average acuracy of predicted output: 0.8\n",
            "Average number of iterations: 2\n"
          ],
          "name": "stdout"
        }
      ]
    },
    {
      "cell_type": "markdown",
      "metadata": {
        "id": "4dDuZTBfWBQF"
      },
      "source": [
        "## Testing ability of network trained with 8 letters on data with 40% noise"
      ]
    },
    {
      "cell_type": "code",
      "metadata": {
        "colab": {
          "base_uri": "https://localhost:8080/"
        },
        "id": "-2G9A7UxUR0H",
        "outputId": "c35c1ff9-0855-40ed-9908-e1fbae73c147"
      },
      "source": [
        "theta = 0\n",
        "errorx_sum = 0\n",
        "errory_sum = 0\n",
        "counters = 0\n",
        "for k in range(100):\n",
        "  x = np.zeros(15)\n",
        "  y = np.zeros(3)\n",
        "  for index in range(8):\n",
        "    x = copy.deepcopy(all_letters[index])\n",
        "    for i in range(15):\n",
        "      if random.random() <= 0.4:\n",
        "        x[i] = x[i] * -1\n",
        "    y = copy.deepcopy(all_outputs[index])\n",
        "    for i in range(3):\n",
        "      if random.random() <= 0.4:\n",
        "        y[i] = y[i] * -1\n",
        "    counter = 0\n",
        "    flag = False\n",
        "    while True:\n",
        "      counter += 1\n",
        "      if flag:\n",
        "        changes = 0\n",
        "        for i in range(15):\n",
        "          if oldx[i] != x[i]:\n",
        "            changes += 1\n",
        "        for i in range(3):\n",
        "          if oldy[i] != y[i]:\n",
        "            changes += 1\n",
        "        if changes == 0:\n",
        "          break\n",
        "      flag = True\n",
        "      oldx = copy.deepcopy(x)\n",
        "      oldy = copy.deepcopy(y)\n",
        "      for j in range(3):\n",
        "        yin = 0\n",
        "        for i in range(15):\n",
        "          yin += x[i] * W[i][j]\n",
        "        if yin > theta:\n",
        "          y[j] = 1\n",
        "        elif yin < theta:\n",
        "          y[j] = -1\n",
        "      for i in range(15):\n",
        "        xin = 0\n",
        "        for j in range(3):\n",
        "          xin += y[j] * W[i][j]\n",
        "        if xin > theta:\n",
        "          x[i] = 1\n",
        "        elif xin < theta:\n",
        "          x[i] = -1\n",
        "    counters += counter\n",
        "  errorx = 0\n",
        "  for i in range(15):\n",
        "    if int(x[i]) != int(all_letters[index][i]):\n",
        "        errorx += 1\n",
        "  flag2 = False\n",
        "  errory = 0\n",
        "  for i in range(3):\n",
        "    if int(y[i]) != int(all_outputs[index][i]):\n",
        "      flag2 = True\n",
        "    if flag2:\n",
        "      errory += 1\n",
        "  errorx_sum += errorx\n",
        "  errory_sum += errory\n",
        "print(\"Average accuracy for number of correct pixels of input: \", 1 - (errorx_sum  / (8 * 100 * 15)))\n",
        "print(\"Average accuracy of predicted output:\", 1 - (errory_sum / (8 * 100)))\n",
        "print(\"Average number of iterations:\", int(counters / (8 * 100)))"
      ],
      "execution_count": 104,
      "outputs": [
        {
          "output_type": "stream",
          "text": [
            "Average accuracy for number of correct pixels of input:  0.9410833333333334\n",
            "Average accuracy of predicted output: 0.73875\n",
            "Average number of iterations: 2\n"
          ],
          "name": "stdout"
        }
      ]
    },
    {
      "cell_type": "markdown",
      "metadata": {
        "id": "0o8BGZZ23Q5C"
      },
      "source": [
        "## Checking dataset with 2 letters"
      ]
    },
    {
      "cell_type": "code",
      "metadata": {
        "id": "9DVBzzdmaVvJ"
      },
      "source": [
        "letters = [np.array(XA), np.array(XB)]\n",
        "outputs = [np.array(YA), np.array(YB)]"
      ],
      "execution_count": 105,
      "outputs": []
    },
    {
      "cell_type": "code",
      "metadata": {
        "id": "Fkj36ET1aWQ8"
      },
      "source": [
        "W = np.zeros([15, 3])\n",
        "W = np.array(W)"
      ],
      "execution_count": 106,
      "outputs": []
    },
    {
      "cell_type": "code",
      "metadata": {
        "id": "p_qxm_J43Heo"
      },
      "source": [
        "for index in range(2):\n",
        "  s = letters[index]\n",
        "  t = outputs[index]\n",
        "  W += np.dot(s.reshape(15, 1), np.transpose(t).reshape(1, 3))"
      ],
      "execution_count": 107,
      "outputs": []
    },
    {
      "cell_type": "code",
      "metadata": {
        "colab": {
          "base_uri": "https://localhost:8080/"
        },
        "id": "03hJZF8yaWcL",
        "outputId": "32291684-e8c6-42cd-d464-7ade75dc83ce"
      },
      "source": [
        "theta = 0\n",
        "x = np.zeros(15)\n",
        "y = np.zeros(3)\n",
        "for index in range(2):\n",
        "  x = copy.deepcopy(letters[index])\n",
        "  y = copy.deepcopy(outputs[index])\n",
        "  counter = 0\n",
        "  flag = False\n",
        "  while True:\n",
        "    counter += 1\n",
        "    if flag:\n",
        "      changes = 0\n",
        "      for i in range(15):\n",
        "        if oldx[i] != x[i]:\n",
        "          changes += 1\n",
        "      for i in range(3):\n",
        "        if oldy[i] != y[i]:\n",
        "          changes += 1\n",
        "      if changes == 0:\n",
        "        break\n",
        "    flag = True\n",
        "    oldx = copy.deepcopy(x)\n",
        "    oldy = copy.deepcopy(y)\n",
        "    for j in range(3):\n",
        "      yin = 0\n",
        "      for i in range(15):\n",
        "        yin += x[i] * W[i][j]\n",
        "      if yin > theta:\n",
        "        y[j] = 1\n",
        "      elif yin < theta:\n",
        "        y[j] = -1\n",
        "    for i in range(15):\n",
        "      xin = 0\n",
        "      for j in range(3):\n",
        "        xin += y[j] * W[i][j]\n",
        "      if xin > theta:\n",
        "        x[i] = 1\n",
        "      elif xin < theta:\n",
        "        x[i] = -1\n",
        "\n",
        "  print(\"iterations:\", counter)\n",
        "  print(\"Real Input: \", letters[index])\n",
        "  print(\"Final input:\", x.astype(int))\n",
        "  print(\"Real Output: \", outputs[index])\n",
        "  print(\"Final output:\", y.astype(int))\n",
        "  errorx = 0\n",
        "  for i in range(15):\n",
        "    if int(x[i]) != int(letters[index][i]):\n",
        "        errorx += 1\n",
        "  print(\"Error of: \", errorx)\n",
        "  errory = 0\n",
        "  for i in range(3):\n",
        "    if int(y[i]) != int(outputs[index][i]):\n",
        "        errory += 1\n",
        "  print(\"Error of output:\", errory)"
      ],
      "execution_count": 108,
      "outputs": [
        {
          "output_type": "stream",
          "text": [
            "iterations: 2\n",
            "Real Input:  [-1  1 -1  1 -1  1  1  1  1  1 -1  1  1 -1  1]\n",
            "Final input: [-1  1 -1  1 -1  1  1  1  1  1 -1  1  1 -1  1]\n",
            "Real Output:  [-1 -1 -1]\n",
            "Final output: [-1 -1 -1]\n",
            "Error of:  0\n",
            "Error of output: 0\n",
            "iterations: 2\n",
            "Real Input:  [ 1  1 -1  1 -1  1  1  1 -1  1 -1  1  1  1 -1]\n",
            "Final input: [ 1  1 -1  1 -1  1  1  1 -1  1 -1  1  1  1 -1]\n",
            "Real Output:  [-1 -1  1]\n",
            "Final output: [-1 -1  1]\n",
            "Error of:  0\n",
            "Error of output: 0\n"
          ],
          "name": "stdout"
        }
      ]
    },
    {
      "cell_type": "code",
      "metadata": {
        "colab": {
          "base_uri": "https://localhost:8080/"
        },
        "id": "_HihHy5VaW9l",
        "outputId": "4b7b77dd-1d14-4926-8dff-65263d0506e8"
      },
      "source": [
        "theta = 0\n",
        "errorx_sum = 0\n",
        "errory_sum = 0\n",
        "counters = 0\n",
        "for k in range(100):\n",
        "  x = np.zeros(15)\n",
        "  y = np.zeros(3)\n",
        "  for index in range(2):\n",
        "    x = copy.deepcopy(letters[index])\n",
        "    for i in range(15):\n",
        "      if random.random() <= 0.1:\n",
        "        x[i] = x[i] * -1\n",
        "    y = copy.deepcopy(outputs[index])\n",
        "    for i in range(3):\n",
        "      if random.random() <= 0.1:\n",
        "        y[i] = y[i] * -1\n",
        "    counter = 0\n",
        "    flag = False\n",
        "    while True:\n",
        "      counter += 1\n",
        "      if flag:\n",
        "        changes = 0\n",
        "        for i in range(15):\n",
        "          if oldx[i] != x[i]:\n",
        "            changes += 1\n",
        "        for i in range(3):\n",
        "          if oldy[i] != y[i]:\n",
        "            changes += 1\n",
        "        if changes == 0:\n",
        "          break\n",
        "      flag = True\n",
        "      oldx = copy.deepcopy(x)\n",
        "      oldy = copy.deepcopy(y)\n",
        "      for j in range(3):\n",
        "        yin = 0\n",
        "        for i in range(15):\n",
        "          yin += x[i] * W[i][j]\n",
        "        if yin > theta:\n",
        "          y[j] = 1\n",
        "        elif yin < theta:\n",
        "          y[j] = -1\n",
        "      for i in range(15):\n",
        "        xin = 0\n",
        "        for j in range(3):\n",
        "          xin += y[j] * W[i][j]\n",
        "        if xin > theta:\n",
        "          x[i] = 1\n",
        "        elif xin < theta:\n",
        "          x[i] = -1\n",
        "    counters += counter\n",
        "  errorx = 0\n",
        "  for i in range(15):\n",
        "    if int(x[i]) != int(letters[index][i]):\n",
        "        errorx += 1\n",
        "  flag2 = False\n",
        "  errory = 0\n",
        "  for i in range(3):\n",
        "    if int(y[i]) != int(outputs[index][i]):\n",
        "      flag2 = True\n",
        "    if flag2:\n",
        "      errory += 1\n",
        "  errorx_sum += errorx\n",
        "  errory_sum += errory\n",
        "print(\"Average accuracy for number of correct pixels of input: \", 1 - (errorx_sum  / (2 * 100 * 15)))\n",
        "print(\"Average acuracy of predicted output:\", 1 - (errory_sum / (2 * 100)))\n",
        "print(\"Average number of iterations:\", int(counters / (2 * 100)))"
      ],
      "execution_count": 109,
      "outputs": [
        {
          "output_type": "stream",
          "text": [
            "Average accuracy for number of correct pixels of input:  1.0\n",
            "Average acuracy of predicted output: 1.0\n",
            "Average number of iterations: 2\n"
          ],
          "name": "stdout"
        }
      ]
    },
    {
      "cell_type": "code",
      "metadata": {
        "colab": {
          "base_uri": "https://localhost:8080/"
        },
        "id": "fyHLlDHiaW_6",
        "outputId": "4b6c1dda-8551-4483-cec1-f0deb25489a0"
      },
      "source": [
        "theta = 0\n",
        "errorx_sum = 0\n",
        "errory_sum = 0\n",
        "counters = 0\n",
        "for k in range(100):\n",
        "  x = np.zeros(15)\n",
        "  y = np.zeros(3)\n",
        "  for index in range(2):\n",
        "    x = copy.deepcopy(letters[index])\n",
        "    for i in range(15):\n",
        "      if random.random() <= 0.4:\n",
        "        x[i] = x[i] * -1\n",
        "    y = copy.deepcopy(outputs[index])\n",
        "    for i in range(3):\n",
        "      if random.random() <= 0.4:\n",
        "        y[i] = y[i] * -1\n",
        "    counter = 0\n",
        "    flag = False\n",
        "    while True:\n",
        "      counter += 1\n",
        "      if flag:\n",
        "        changes = 0\n",
        "        for i in range(15):\n",
        "          if oldx[i] != x[i]:\n",
        "            changes += 1\n",
        "        for i in range(3):\n",
        "          if oldy[i] != y[i]:\n",
        "            changes += 1\n",
        "        if changes == 0:\n",
        "          break\n",
        "      flag = True\n",
        "      oldx = copy.deepcopy(x)\n",
        "      oldy = copy.deepcopy(y)\n",
        "      for j in range(3):\n",
        "        yin = 0\n",
        "        for i in range(15):\n",
        "          yin += x[i] * W[i][j]\n",
        "        if yin > theta:\n",
        "          y[j] = 1\n",
        "        elif yin < theta:\n",
        "          y[j] = -1\n",
        "      for i in range(15):\n",
        "        xin = 0\n",
        "        for j in range(3):\n",
        "          xin += y[j] * W[i][j]\n",
        "        if xin > theta:\n",
        "          x[i] = 1\n",
        "        elif xin < theta:\n",
        "          x[i] = -1\n",
        "    counters += counter\n",
        "  errorx = 0\n",
        "  for i in range(15):\n",
        "    if int(x[i]) != int(letters[index][i]):\n",
        "        errorx += 1\n",
        "  flag2 = False\n",
        "  errory = 0\n",
        "  for i in range(3):\n",
        "    if int(y[i]) != int(outputs[index][i]):\n",
        "      flag2 = True\n",
        "    if flag2:\n",
        "      errory += 1\n",
        "  errorx_sum += errorx\n",
        "  errory_sum += errory\n",
        "print(\"Average accuracy for number of correct pixels of input: \", 1 - (errorx_sum  / (2 * 100 * 15)))\n",
        "print(\"Average accuracy of predicted output:\", 1 - (errory_sum / (2 * 100)))\n",
        "print(\"Average number of iterations:\", int(counters / (2 * 100)))"
      ],
      "execution_count": 110,
      "outputs": [
        {
          "output_type": "stream",
          "text": [
            "Average accuracy for number of correct pixels of input:  0.883\n",
            "Average accuracy of predicted output: 0.565\n",
            "Average number of iterations: 3\n"
          ],
          "name": "stdout"
        }
      ]
    }
  ]
}