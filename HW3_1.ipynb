{
  "nbformat": 4,
  "nbformat_minor": 0,
  "metadata": {
    "colab": {
      "name": "HW3-1.ipynb",
      "provenance": [],
      "collapsed_sections": []
    },
    "kernelspec": {
      "name": "python3",
      "display_name": "Python 3"
    },
    "language_info": {
      "name": "python"
    }
  },
  "cells": [
    {
      "cell_type": "code",
      "metadata": {
        "id": "MmHwhrknImT_"
      },
      "source": [
        ""
      ],
      "execution_count": null,
      "outputs": []
    },
    {
      "cell_type": "code",
      "metadata": {
        "id": "3zEv2SWkwBan"
      },
      "source": [
        "import numpy as np\n",
        "import matplotlib.pyplot as plt"
      ],
      "execution_count": null,
      "outputs": []
    },
    {
      "cell_type": "code",
      "metadata": {
        "id": "NLNdVBlLwzCj"
      },
      "source": [
        "# input_a = -1+2*np.matrix([[0, 0, 0, 1, 0, 0, 0],\n",
        "#                           [0, 0, 0, 1, 0, 0, 0],\n",
        "#                           [0, 0, 0, 1, 0, 0, 0],\n",
        "#                           [0, 0, 1, 0, 1, 0, 0],\n",
        "#                           [0, 0, 1, 0, 1, 0, 0],\n",
        "#                           [0, 1, 1, 1, 1, 1, 0],\n",
        "#                           [0, 1, 0, 0, 0, 1, 0],\n",
        "#                           [0, 1, 0, 0, 0, 1, 0],\n",
        "#                           [1, 1, 1, 0, 1, 1, 1]])\n",
        "\n",
        "# input_b = -1+2*np.matrix([[1, 1, 1, 1, 1, 1, 1],\n",
        "#                           [1, 0, 0, 0, 0, 0, 1],\n",
        "#                           [1, 0, 0, 0, 0, 1, 0],\n",
        "#                           [1, 0, 0, 0, 1, 0, 0],\n",
        "#                           [1, 1, 1, 1, 0, 0, 0],\n",
        "#                           [1, 0, 0, 0, 1, 0, 0],\n",
        "#                           [1, 0, 0, 0, 0, 1, 0],\n",
        "#                           [1, 0, 0, 0, 0, 0, 1],\n",
        "#                           [1, 1, 1, 1, 1, 1, 1]])\n",
        "\n",
        "# input_c = -1+2*np.matrix([[0, 0, 1, 1, 1, 1, 0],\n",
        "#                           [0, 1, 0, 0, 0, 0, 1],\n",
        "#                           [1, 0, 0, 0, 0, 0, 0],\n",
        "#                           [1, 0, 0, 0, 0, 0, 0],\n",
        "#                           [1, 0, 0, 0, 0, 0, 0],\n",
        "#                           [1, 0, 0, 0, 0, 0, 0],\n",
        "#                           [1, 0, 0, 0, 0, 0, 0],\n",
        "#                           [0, 1, 0, 0, 0, 0, 1],\n",
        "#                           [0, 0, 1, 1, 1, 1, 0]])\n",
        "\n",
        "input_a = np.matrix([[-1, -1, -1, 1, -1, -1, -1],\n",
        "                          [-1, -1, -1, 1, -1, -1, -1],\n",
        "                          [-1, -1, -1, 1, -1, -1, -1],\n",
        "                          [-1, -1, 1, -1, 1, -1, -1],\n",
        "                          [-1, -1, 1, -1, 1, -1, -1],\n",
        "                          [-1, 1, 1, 1, 1, 1, -1],\n",
        "                          [-1, 1, -1, -1, -1, 1, -1],\n",
        "                          [-1, 1, -1, -1, -1, 1, -1],\n",
        "                          [1, 1, 1, -1, 1, 1, 1]])\n",
        "\n",
        "input_b = np.matrix([[1, 1, 1, 1, 1, 1, 1],\n",
        "                          [1, -1, -1, -1, -1, -1, 1],\n",
        "                          [1, -1, -1, -1, -1, 1, -1],\n",
        "                          [1, -1, -1, -1, 1, -1, -1],\n",
        "                          [1, 1, 1, 1, -1, -1, -1],\n",
        "                          [1, -1, -1, -1, 1, -1, -1],\n",
        "                          [1, -1, -1, -1, -1, 1, -1],\n",
        "                          [1, -1, -1, -1, -1, -1, 1],\n",
        "                          [1, 1, 1, 1, 1, 1, 1]])\n",
        "\n",
        "input_c = np.matrix([[-1, -1, 1, 1, 1, 1, -1],\n",
        "                          [-1, 1, -1, -1, -1, -1, 1],\n",
        "                          [1, -1, -1, -1, -1, -1, -1],\n",
        "                          [1, -1, -1, -1, -1, -1, -1],\n",
        "                          [1, -1, -1, -1, -1, -1, -1],\n",
        "                          [1, -1, -1, -1, -1, -1, -1],\n",
        "                          [1, -1, -1, -1, -1, -1, -1],\n",
        "                          [-1, 1, -1, -1, -1, -1, 1],\n",
        "                          [-1, -1, 1, 1, 1, 1, -1]])\n",
        "\n",
        "\n",
        "input_ = np.zeros((3, 63))\n",
        "input_[0] = input_a.flatten()\n",
        "input_[1] = input_b.flatten()\n",
        "input_[2] = input_c.flatten()"
      ],
      "execution_count": null,
      "outputs": []
    },
    {
      "cell_type": "code",
      "metadata": {
        "id": "KcsZwrEU2L0f"
      },
      "source": [
        "# target_a = -1+2*np.matrix([[0, 1, 0],\n",
        "#                            [1, 0, 1],\n",
        "#                            [1, 1, 1],\n",
        "#                            [1, 0, 1],\n",
        "#                            [1, 0, 1]])\n",
        "\n",
        "# target_b = -1+2*np.matrix([[1, 1, 0],\n",
        "#                            [1, 0, 1],\n",
        "#                            [1, 1, 0],\n",
        "#                            [1, 0, 1],\n",
        "#                            [1, 1, 0]])\n",
        "\n",
        "# target_c = -1+2*np.matrix([[0, 1, 1],\n",
        "#                            [1, 0, 0],\n",
        "#                            [1, 0, 0],\n",
        "#                            [1, 0, 0],\n",
        "#                            [0, 1, 1]])\n",
        "\n",
        "target_a = np.matrix([[-1, 1, -1],\n",
        "                           [1, -1, 1],\n",
        "                           [1, 1, 1],\n",
        "                           [1, -1, 1],\n",
        "                           [1, -1, 1]])\n",
        "\n",
        "target_b = np.matrix([[1, 1, -1],\n",
        "                           [1, -1, 1],\n",
        "                           [1, 1, -1],\n",
        "                           [1, -1, 1],\n",
        "                           [1, 1, -1]])\n",
        "\n",
        "target_c =np.matrix([[-1, 1, 1],\n",
        "                           [1, -1, -1],\n",
        "                           [1, -1, -1],\n",
        "                           [1, -1, -1],\n",
        "                           [-1, 1, 1]])\n",
        "\n",
        "target_ = np.zeros((3, 15))\n",
        "target_[0] = target_a.flatten()\n",
        "target_[1] = target_b.flatten()\n",
        "target_[2] = target_c.flatten()"
      ],
      "execution_count": null,
      "outputs": []
    },
    {
      "cell_type": "code",
      "metadata": {
        "id": "dGXBmjRtMdUf",
        "colab": {
          "base_uri": "https://localhost:8080/",
          "height": 277
        },
        "outputId": "e8a47a5c-7c33-42c9-f9b7-661a2e4e0e00"
      },
      "source": [
        "import matplotlib.pyplot as plt\n",
        "\n",
        "for s in range(3):\n",
        "    plt.subplot2grid((2,3),(int(s/5),s%5))\n",
        "    plt.imshow(input_[s,:].reshape(9,7))\n",
        "plt.show()\n",
        "for ss in range(3):\n",
        "    plt.subplot2grid((2,3),(int(ss/5),ss%5))\n",
        "    plt.imshow(target_[ss,:].reshape(5,3))\n",
        "plt.show()"
      ],
      "execution_count": null,
      "outputs": [
        {
          "output_type": "display_data",
          "data": {
            "image/png": "[encoded data removed]",
            "text/plain": [
              "<Figure size 432x288 with 3 Axes>"
            ]
          },
          "metadata": {
            "tags": [],
            "needs_background": "light"
          }
        },
        {
          "output_type": "display_data",
          "data": {
            "image/png": "[encoded data removed]",
            "text/plain": [
              "<Figure size 432x288 with 3 Axes>"
            ]
          },
          "metadata": {
            "tags": [],
            "needs_background": "light"
          }
        }
      ]
    },
    {
      "cell_type": "code",
      "metadata": {
        "id": "4fLg3IVNztXh"
      },
      "source": [
        "w = np.zeros((9*7, 5*3))\n",
        "w = np.matmul(input_.T, target_)\n",
        "# w"
      ],
      "execution_count": null,
      "outputs": []
    },
    {
      "cell_type": "code",
      "metadata": {
        "id": "0acLWKu9Srj1",
        "colab": {
          "base_uri": "https://localhost:8080/",
          "height": 580
        },
        "outputId": "3d9bbdb2-5b36-4e98-e7e9-7220de136392"
      },
      "source": [
        "out_a = np.matmul(input_[0].reshape(1,63), w)\n",
        "print(out_a.shape)\n",
        "for i in range (0,15):\n",
        "  if out_a[0,i] > 0:\n",
        "     out_a[0,i] = 1\n",
        "  else:\n",
        "     out_a[0,i] = -1\n",
        "\n",
        "print(target_[0])\n",
        "print(out_a)\n",
        "print(np.count_nonzero(target_[0] != out_a))\n",
        "\n",
        "plt.imshow(out_a[0,:].reshape(5,3))\n",
        "plt.show()\n",
        "plt.imshow(target_[0].reshape(5,3))\n",
        "plt.show()"
      ],
      "execution_count": null,
      "outputs": [
        {
          "output_type": "stream",
          "text": [
            "(1, 15)\n",
            "[-1.  1. -1.  1. -1.  1.  1.  1.  1.  1. -1.  1.  1. -1.  1.]\n",
            "[[-1.  1. -1.  1. -1.  1.  1.  1.  1.  1. -1.  1.  1. -1.  1.]]\n",
            "0\n"
          ],
          "name": "stdout"
        },
        {
          "output_type": "display_data",
          "data": {
            "image/png": "[encoded data removed]",
            "text/plain": [
              "<Figure size 432x288 with 1 Axes>"
            ]
          },
          "metadata": {
            "tags": [],
            "needs_background": "light"
          }
        },
        {
          "output_type": "display_data",
          "data": {
            "image/png": "[encoded data removed]",
            "text/plain": [
              "<Figure size 432x288 with 1 Axes>"
            ]
          },
          "metadata": {
            "tags": [],
            "needs_background": "light"
          }
        }
      ]
    },
    {
      "cell_type": "code",
      "metadata": {
        "id": "nJD5JKM5ZJqQ",
        "colab": {
          "base_uri": "https://localhost:8080/",
          "height": 563
        },
        "outputId": "d30697a5-fa27-417d-e616-d759bd7a801b"
      },
      "source": [
        "out_b = np.matmul(input_[1].reshape(1,63), w)\n",
        "\n",
        "for i in range (0,15):\n",
        "  if out_b[0,i] > 0:\n",
        "     out_b[0,i] = 1\n",
        "  else:\n",
        "     out_b[0,i] = -1\n",
        "\n",
        "print(target_[1])\n",
        "print(out_b)\n",
        "print(np.count_nonzero(target_[1] != out_b))\n",
        "\n",
        "plt.imshow(out_b[0,:].reshape(5,3))\n",
        "plt.show()\n",
        "plt.imshow(target_[1].reshape(5,3))\n",
        "plt.show()"
      ],
      "execution_count": null,
      "outputs": [
        {
          "output_type": "stream",
          "text": [
            "[ 1.  1. -1.  1. -1.  1.  1.  1. -1.  1. -1.  1.  1.  1. -1.]\n",
            "[[ 1.  1. -1.  1. -1.  1.  1.  1. -1.  1. -1.  1.  1.  1. -1.]]\n",
            "0\n"
          ],
          "name": "stdout"
        },
        {
          "output_type": "display_data",
          "data": {
            "image/png": "[encoded data removed]",
            "text/plain": [
              "<Figure size 432x288 with 1 Axes>"
            ]
          },
          "metadata": {
            "tags": [],
            "needs_background": "light"
          }
        },
        {
          "output_type": "display_data",
          "data": {
            "image/png": "[encoded data removed]",
            "text/plain": [
              "<Figure size 432x288 with 1 Axes>"
            ]
          },
          "metadata": {
            "tags": [],
            "needs_background": "light"
          }
        }
      ]
    },
    {
      "cell_type": "code",
      "metadata": {
        "id": "f0D81991ZSbS",
        "colab": {
          "base_uri": "https://localhost:8080/",
          "height": 563
        },
        "outputId": "555cc2df-06f3-4687-b222-dfa3d9d578e2"
      },
      "source": [
        "out_c = np.matmul(input_[2].reshape(1,63), w)\n",
        "\n",
        "for i in range (0,15):\n",
        "  if out_c[0,i] > 0:\n",
        "     out_c[0,i] = 1\n",
        "  else:\n",
        "     out_c[0,i] = -1\n",
        "\n",
        "print(target_[2])\n",
        "print(out_c)\n",
        "print(np.count_nonzero(target_[2] != out_c))\n",
        "\n",
        "plt.imshow(out_c[0,:].reshape(5,3))\n",
        "plt.show()\n",
        "plt.imshow(target_[2].reshape(5,3))\n",
        "plt.show()"
      ],
      "execution_count": null,
      "outputs": [
        {
          "output_type": "stream",
          "text": [
            "[-1.  1.  1.  1. -1. -1.  1. -1. -1.  1. -1. -1. -1.  1.  1.]\n",
            "[[-1.  1.  1.  1. -1. -1.  1. -1. -1.  1. -1. -1. -1.  1.  1.]]\n",
            "0\n"
          ],
          "name": "stdout"
        },
        {
          "output_type": "display_data",
          "data": {
            "image/png": "[encoded data removed]",
            "text/plain": [
              "<Figure size 432x288 with 1 Axes>"
            ]
          },
          "metadata": {
            "tags": [],
            "needs_background": "light"
          }
        },
        {
          "output_type": "display_data",
          "data": {
            "image/png": "[encoded data removed]",
            "text/plain": [
              "<Figure size 432x288 with 1 Axes>"
            ]
          },
          "metadata": {
            "tags": [],
            "needs_background": "light"
          }
        }
      ]
    },
    {
      "cell_type": "code",
      "metadata": {
        "id": "45Y_YLg7MMlm"
      },
      "source": [
        "##part 2: with nosie"
      ],
      "execution_count": null,
      "outputs": []
    },
    {
      "cell_type": "code",
      "metadata": {
        "id": "niqGHC5Qkx4L"
      },
      "source": [
        "NUM = 21"
      ],
      "execution_count": null,
      "outputs": []
    },
    {
      "cell_type": "code",
      "metadata": {
        "id": "ElXQZ4d1kyHC"
      },
      "source": [
        "\n",
        "\n",
        "input_a = np.matrix([[-1, -1, -1, 1, -1, -1, -1],\n",
        "                          [-1, -1, -1, 1, -1, -1, -1],\n",
        "                          [-1, -1, -1, 1, -1, -1, -1],\n",
        "                          [-1, -1, 1, -1, 1, -1, -1],\n",
        "                          [-1, -1, 1, -1, 1, -1, -1],\n",
        "                          [-1, 1, 1, 1, 1, 1, -1],\n",
        "                          [-1, 1, -1, -1, -1, 1, -1],\n",
        "                          [-1, 1, -1, -1, -1, 1, -1],\n",
        "                          [1, 1, 1, -1, 1, 1, 1]])\n",
        "\n",
        "input_b = np.matrix([[1, 1, 1, 1, 1, 1, 1],\n",
        "                          [1, -1, -1, -1, -1, -1, 1],\n",
        "                          [1, -1, -1, -1, -1, 1, -1],\n",
        "                          [1, -1, -1, -1, 1, -1, -1],\n",
        "                          [1, 1, 1, 1, -1, -1, -1],\n",
        "                          [1, -1, -1, -1, 1, -1, -1],\n",
        "                          [1, -1, -1, -1, -1, 1, -1],\n",
        "                          [1, -1, -1, -1, -1, -1, 1],\n",
        "                          [1, 1, 1, 1, 1, 1, 1]])\n",
        "\n",
        "input_c = np.matrix([[-1, -1, 1, 1, 1, 1, -1],\n",
        "                          [-1, 1, -1, -1, -1, -1, 1],\n",
        "                          [1, -1, -1, -1, -1, -1, -1],\n",
        "                          [1, -1, -1, -1, -1, -1, -1],\n",
        "                          [1, -1, -1, -1, -1, -1, -1],\n",
        "                          [1, -1, -1, -1, -1, -1, -1],\n",
        "                          [1, -1, -1, -1, -1, -1, -1],\n",
        "                          [-1, 1, -1, -1, -1, -1, 1],\n",
        "                          [-1, -1, 1, 1, 1, 1, -1]])\n",
        "\n",
        "\n",
        "input_ = np.zeros((3, 63))\n",
        "input_[0] = input_a.flatten()\n",
        "input_[1] = input_b.flatten()\n",
        "input_[2] = input_c.flatten()"
      ],
      "execution_count": null,
      "outputs": []
    },
    {
      "cell_type": "code",
      "metadata": {
        "id": "4BMzSF2TkyHG"
      },
      "source": [
        "\n",
        "target_a = np.matrix([[-1, 1, -1],\n",
        "                           [1, -1, 1],\n",
        "                           [1, 1, 1],\n",
        "                           [1, -1, 1],\n",
        "                           [1, -1, 1]])\n",
        "\n",
        "target_b = np.matrix([[1, 1, -1],\n",
        "                           [1, -1, 1],\n",
        "                           [1, 1, -1],\n",
        "                           [1, -1, 1],\n",
        "                           [1, 1, -1]])\n",
        "\n",
        "target_c =np.matrix([[-1, 1, 1],\n",
        "                           [1, -1, -1],\n",
        "                           [1, -1, -1],\n",
        "                           [1, -1, -1],\n",
        "                           [-1, 1, 1]])\n",
        "\n",
        "target_ = np.zeros((3, 15))\n",
        "target_[0] = target_a.flatten()\n",
        "target_[1] = target_b.flatten()\n",
        "target_[2] = target_c.flatten()"
      ],
      "execution_count": null,
      "outputs": []
    },
    {
      "cell_type": "code",
      "metadata": {
        "colab": {
          "base_uri": "https://localhost:8080/",
          "height": 277
        },
        "id": "8FQjtJ7okyHG",
        "outputId": "9c25eac2-2d36-4ca4-8fee-6a8171c19f4f"
      },
      "source": [
        "for s in range(3):\n",
        "    plt.subplot2grid((2,3),(int(s/5),s%5))\n",
        "    plt.imshow(input_[s,:].reshape(9,7))\n",
        "plt.show()\n",
        "for ss in range(3):\n",
        "    plt.subplot2grid((2,3),(int(ss/5),ss%5))\n",
        "    plt.imshow(target_[ss,:].reshape(5,3))\n",
        "plt.show()"
      ],
      "execution_count": null,
      "outputs": [
        {
          "output_type": "display_data",
          "data": {
            "image/png": "[encoded data removed]",
            "text/plain": [
              "<Figure size 432x288 with 3 Axes>"
            ]
          },
          "metadata": {
            "tags": [],
            "needs_background": "light"
          }
        },
        {
          "output_type": "display_data",
          "data": {
            "image/png": "[encoded data removed]",
            "text/plain": [
              "<Figure size 432x288 with 3 Axes>"
            ]
          },
          "metadata": {
            "tags": [],
            "needs_background": "light"
          }
        }
      ]
    },
    {
      "cell_type": "code",
      "metadata": {
        "id": "xhTZgZ03kyHH"
      },
      "source": [
        "w = np.zeros((9*7, 5*3))\n",
        "w = np.matmul(input_.T, target_)\n",
        "# w"
      ],
      "execution_count": null,
      "outputs": []
    },
    {
      "cell_type": "code",
      "metadata": {
        "id": "87-amKvSgcM1"
      },
      "source": [
        ""
      ],
      "execution_count": null,
      "outputs": []
    },
    {
      "cell_type": "code",
      "metadata": {
        "id": "DS5C4ulvummJ",
        "colab": {
          "base_uri": "https://localhost:8080/"
        },
        "outputId": "d3a4d701-b746-41a0-b46e-f84ecf3be548"
      },
      "source": [
        "index_m = np.random.choice(63 , NUM, replace = False)\n",
        "print(index_m)"
      ],
      "execution_count": null,
      "outputs": [
        {
          "output_type": "stream",
          "text": [
            "[22 13 18 24 45 51 41 34 12 62 39 59 31 43 37 58  5  2  4 30 55]\n"
          ],
          "name": "stdout"
        }
      ]
    },
    {
      "cell_type": "code",
      "metadata": {
        "id": "PNCIFztbumoi"
      },
      "source": [
        "for i in range (0, 3):\n",
        "  for j in range(0, NUM):\n",
        "    if input_[i, index_m[j]] == 1:\n",
        "      input_[i, index_m[j]] = -1\n",
        "    else:\n",
        "      input_[i, index_m[j]] = 1\n",
        "\n",
        "out_m = np.zeros((3,15))\n",
        "out_m[0] = np.matmul(input_[0].reshape(1, 63), w)\n",
        "out_m[1] = np.matmul(input_[1].reshape(1, 63), w)\n",
        "out_m[2] = np.matmul(input_[2].reshape(1, 63), w)"
      ],
      "execution_count": null,
      "outputs": []
    },
    {
      "cell_type": "code",
      "metadata": {
        "id": "UzezMPTyumrE",
        "colab": {
          "base_uri": "https://localhost:8080/",
          "height": 147
        },
        "outputId": "524d088a-cb2c-45f7-b442-c9c499e60fb5"
      },
      "source": [
        "for m in range (0, 3):\n",
        "  plt.subplot2grid((2,3),(int(m/3),m%3))\n",
        "  plt.imshow(input_[m,:].reshape(9,7))\n",
        "plt.show()"
      ],
      "execution_count": null,
      "outputs": [
        {
          "output_type": "display_data",
          "data": {
            "image/png": "[encoded data removed]",
            "text/plain": [
              "<Figure size 432x288 with 3 Axes>"
            ]
          },
          "metadata": {
            "tags": [],
            "needs_background": "light"
          }
        }
      ]
    },
    {
      "cell_type": "code",
      "metadata": {
        "id": "v1Nwjm8suyj8"
      },
      "source": [
        "for i in range (0, 3):\n",
        "  for j in range (0, 15):\n",
        "    if out_m[i, j] > 0:\n",
        "      out_m[i, j] = 1\n",
        "    if out_m[i, j] < 0:\n",
        "      out_m[i, j] = -1"
      ],
      "execution_count": null,
      "outputs": []
    },
    {
      "cell_type": "code",
      "metadata": {
        "id": "xmcZX-EvuymO",
        "colab": {
          "base_uri": "https://localhost:8080/",
          "height": 147
        },
        "outputId": "0d6a9b3d-8294-4f54-fffa-7263e2637ea9"
      },
      "source": [
        "for mm in range (0, 3):\n",
        "  plt.subplot2grid((2,3),(int(mm/3),mm%3))\n",
        "  plt.imshow(out_m[mm,:].reshape(5,3))\n",
        "plt.show()"
      ],
      "execution_count": null,
      "outputs": [
        {
          "output_type": "display_data",
          "data": {
            "image/png": "[encoded data removed]",
            "text/plain": [
              "<Figure size 432x288 with 3 Axes>"
            ]
          },
          "metadata": {
            "tags": [],
            "needs_background": "light"
          }
        }
      ]
    },
    {
      "cell_type": "code",
      "metadata": {
        "id": "Z_5UjzJHuyou",
        "colab": {
          "base_uri": "https://localhost:8080/"
        },
        "outputId": "d06da275-2074-44ed-d6a4-e2859ee46b8c"
      },
      "source": [
        "for i in range (0, 3):\n",
        "  print(target_[i])\n",
        "  print(out_m[i])\n",
        "  nonzeros = np.count_nonzero(target_[i] != out_m[i])\n",
        "  print(nonzeros)"
      ],
      "execution_count": null,
      "outputs": [
        {
          "output_type": "stream",
          "text": [
            "[-1.  1. -1.  1. -1.  1.  1.  1.  1.  1. -1.  1.  1. -1.  1.]\n",
            "[-1.  1. -1.  1. -1.  1.  1.  1.  1.  1. -1.  1.  1. -1.  1.]\n",
            "0\n",
            "[ 1.  1. -1.  1. -1.  1.  1.  1. -1.  1. -1.  1.  1.  1. -1.]\n",
            "[ 1.  1. -1.  1. -1.  1.  1.  1. -1.  1. -1.  1.  1.  1. -1.]\n",
            "0\n",
            "[-1.  1.  1.  1. -1. -1.  1. -1. -1.  1. -1. -1. -1.  1.  1.]\n",
            "[-1.  1.  1.  1. -1. -1.  1. -1. -1.  1. -1. -1. -1.  1.  1.]\n",
            "0\n"
          ],
          "name": "stdout"
        }
      ]
    },
    {
      "cell_type": "code",
      "metadata": {
        "id": "KMHVcCiHk9FP"
      },
      "source": [
        "## with missing:\n",
        "NUM2 = 50"
      ],
      "execution_count": null,
      "outputs": []
    },
    {
      "cell_type": "code",
      "metadata": {
        "id": "xc6EUvPmlG0P"
      },
      "source": [
        "\n",
        "input_a = np.matrix([[-1, -1, -1, 1, -1, -1, -1],\n",
        "                          [-1, -1, -1, 1, -1, -1, -1],\n",
        "                          [-1, -1, -1, 1, -1, -1, -1],\n",
        "                          [-1, -1, 1, -1, 1, -1, -1],\n",
        "                          [-1, -1, 1, -1, 1, -1, -1],\n",
        "                          [-1, 1, 1, 1, 1, 1, -1],\n",
        "                          [-1, 1, -1, -1, -1, 1, -1],\n",
        "                          [-1, 1, -1, -1, -1, 1, -1],\n",
        "                          [1, 1, 1, -1, 1, 1, 1]])\n",
        "\n",
        "input_b = np.matrix([[1, 1, 1, 1, 1, 1, 1],\n",
        "                          [1, -1, -1, -1, -1, -1, 1],\n",
        "                          [1, -1, -1, -1, -1, 1, -1],\n",
        "                          [1, -1, -1, -1, 1, -1, -1],\n",
        "                          [1, 1, 1, 1, -1, -1, -1],\n",
        "                          [1, -1, -1, -1, 1, -1, -1],\n",
        "                          [1, -1, -1, -1, -1, 1, -1],\n",
        "                          [1, -1, -1, -1, -1, -1, 1],\n",
        "                          [1, 1, 1, 1, 1, 1, 1]])\n",
        "\n",
        "input_c = np.matrix([[-1, -1, 1, 1, 1, 1, -1],\n",
        "                          [-1, 1, -1, -1, -1, -1, 1],\n",
        "                          [1, -1, -1, -1, -1, -1, -1],\n",
        "                          [1, -1, -1, -1, -1, -1, -1],\n",
        "                          [1, -1, -1, -1, -1, -1, -1],\n",
        "                          [1, -1, -1, -1, -1, -1, -1],\n",
        "                          [1, -1, -1, -1, -1, -1, -1],\n",
        "                          [-1, 1, -1, -1, -1, -1, 1],\n",
        "                          [-1, -1, 1, 1, 1, 1, -1]])\n",
        "\n",
        "\n",
        "input_ = np.zeros((3, 63))\n",
        "input_[0] = input_a.flatten()\n",
        "input_[1] = input_b.flatten()\n",
        "input_[2] = input_c.flatten()"
      ],
      "execution_count": null,
      "outputs": []
    },
    {
      "cell_type": "code",
      "metadata": {
        "id": "HSWcuEUplG0R"
      },
      "source": [
        "\n",
        "\n",
        "target_a = np.matrix([[-1, 1, -1],\n",
        "                           [1, -1, 1],\n",
        "                           [1, 1, 1],\n",
        "                           [1, -1, 1],\n",
        "                           [1, -1, 1]])\n",
        "\n",
        "target_b = np.matrix([[1, 1, -1],\n",
        "                           [1, -1, 1],\n",
        "                           [1, 1, -1],\n",
        "                           [1, -1, 1],\n",
        "                           [1, 1, -1]])\n",
        "\n",
        "target_c =np.matrix([[-1, 1, 1],\n",
        "                           [1, -1, -1],\n",
        "                           [1, -1, -1],\n",
        "                           [1, -1, -1],\n",
        "                           [-1, 1, 1]])\n",
        "\n",
        "target_ = np.zeros((3, 15))\n",
        "target_[0] = target_a.flatten()\n",
        "target_[1] = target_b.flatten()\n",
        "target_[2] = target_c.flatten()"
      ],
      "execution_count": null,
      "outputs": []
    },
    {
      "cell_type": "code",
      "metadata": {
        "colab": {
          "base_uri": "https://localhost:8080/",
          "height": 277
        },
        "id": "arL03vSmlG0S",
        "outputId": "10d1b282-450f-40a5-b7b3-7ed7d5ac78a8"
      },
      "source": [
        "import matplotlib.pyplot as plt\n",
        "\n",
        "for s in range(3):\n",
        "    plt.subplot2grid((2,3),(int(s/5),s%5))\n",
        "    plt.imshow(input_[s,:].reshape(9,7))\n",
        "plt.show()\n",
        "for ss in range(3):\n",
        "    plt.subplot2grid((2,3),(int(ss/5),ss%5))\n",
        "    plt.imshow(target_[ss,:].reshape(5,3))\n",
        "plt.show()"
      ],
      "execution_count": null,
      "outputs": [
        {
          "output_type": "display_data",
          "data": {
            "image/png": "[encoded data removed]",
            "text/plain": [
              "<Figure size 432x288 with 3 Axes>"
            ]
          },
          "metadata": {
            "tags": [],
            "needs_background": "light"
          }
        },
        {
          "output_type": "display_data",
          "data": {
            "image/png": "[encoded data removed]",
            "text/plain": [
              "<Figure size 432x288 with 3 Axes>"
            ]
          },
          "metadata": {
            "tags": [],
            "needs_background": "light"
          }
        }
      ]
    },
    {
      "cell_type": "code",
      "metadata": {
        "id": "BsgwNucGlG0T"
      },
      "source": [
        "w = np.zeros((9*7, 5*3))\n",
        "w = np.matmul(input_.T, target_)\n"
      ],
      "execution_count": null,
      "outputs": []
    },
    {
      "cell_type": "code",
      "metadata": {
        "colab": {
          "base_uri": "https://localhost:8080/"
        },
        "id": "GS7rL9bGlG0T",
        "outputId": "64925f2b-42fa-4066-e1e8-35d54e3aa1bb"
      },
      "source": [
        "index = np.random.choice(63, NUM2, replace = False)\n",
        "print(index)"
      ],
      "execution_count": null,
      "outputs": [
        {
          "output_type": "stream",
          "text": [
            "[34 36  9  5 30 56 62 59 26 37 22 60  1 29 16 48  0 53 11 18 12 42 52 31\n",
            " 19 46 28 23 54 61 58  7 39 40 38 49 13 14  2 47 35 10 32 45 15 44  8 17\n",
            "  6 33]\n"
          ],
          "name": "stdout"
        }
      ]
    },
    {
      "cell_type": "code",
      "metadata": {
        "id": "jaGkGgAhOKjx"
      },
      "source": [
        "for i in range (0, 3):\n",
        "  for j in range(NUM2):\n",
        "    input_[i, index[j]] = 0\n",
        "\n",
        "out = np.zeros((3,15))\n",
        "out[0] = np.matmul(input_[0].reshape(1, 63), w)\n",
        "out[1] = np.matmul(input_[1].reshape(1, 63), w)\n",
        "out[2] = np.matmul(input_[2].reshape(1, 63), w)"
      ],
      "execution_count": null,
      "outputs": []
    },
    {
      "cell_type": "code",
      "metadata": {
        "id": "CHX467gCAKr-",
        "colab": {
          "base_uri": "https://localhost:8080/",
          "height": 147
        },
        "outputId": "a07f9e65-423b-4e2c-8ddd-7734fca29eb5"
      },
      "source": [
        "for m in range (0, 3):\n",
        "  plt.subplot2grid((2,3),(int(m/3),m%3))\n",
        "  plt.imshow(input_[m,:].reshape(9,7))\n",
        "plt.show()"
      ],
      "execution_count": null,
      "outputs": [
        {
          "output_type": "display_data",
          "data": {
            "image/png": "[encoded data removed]",
            "text/plain": [
              "<Figure size 432x288 with 3 Axes>"
            ]
          },
          "metadata": {
            "tags": [],
            "needs_background": "light"
          }
        }
      ]
    },
    {
      "cell_type": "code",
      "metadata": {
        "id": "1Dn2dIBuv4vg"
      },
      "source": [
        "for i in range (0, 3):\n",
        "  for j in range (0, 15):\n",
        "    if out[i, j] > 0:\n",
        "      out[i, j] = 1\n",
        "    if out[i, j] < 0:\n",
        "      out[i, j] = -1"
      ],
      "execution_count": null,
      "outputs": []
    },
    {
      "cell_type": "code",
      "metadata": {
        "id": "D5y5cM5wAXb4",
        "colab": {
          "base_uri": "https://localhost:8080/",
          "height": 147
        },
        "outputId": "a85aa12b-46e1-4a71-98f2-2ccf4624c888"
      },
      "source": [
        "for ss in range (0, 3):\n",
        "  plt.subplot2grid((2,3),(int(ss/3),ss%3))\n",
        "  plt.imshow(out[ss,:].reshape(5,3))\n",
        "plt.show()"
      ],
      "execution_count": null,
      "outputs": [
        {
          "output_type": "display_data",
          "data": {
            "image/png": "[encoded data removed]",
            "text/plain": [
              "<Figure size 432x288 with 3 Axes>"
            ]
          },
          "metadata": {
            "tags": [],
            "needs_background": "light"
          }
        }
      ]
    },
    {
      "cell_type": "code",
      "metadata": {
        "id": "dzLCyYZiui46",
        "colab": {
          "base_uri": "https://localhost:8080/"
        },
        "outputId": "20142f3f-496c-41ac-eef7-b299158607df"
      },
      "source": [
        "for i in range (0, 3):\n",
        "  print(target_[i])\n",
        "  print(out[i])\n",
        "  nonzeros = np.count_nonzero(target_[i] != out[i])\n",
        "  print(nonzeros)"
      ],
      "execution_count": null,
      "outputs": [
        {
          "output_type": "stream",
          "text": [
            "[-1.  1. -1.  1. -1.  1.  1.  1.  1.  1. -1.  1.  1. -1.  1.]\n",
            "[-1.  1. -1.  1. -1.  1.  1.  1.  1.  1. -1.  1.  1. -1.  1.]\n",
            "0\n",
            "[ 1.  1. -1.  1. -1.  1.  1.  1. -1.  1. -1.  1.  1.  1. -1.]\n",
            "[ 1.  1. -1.  1. -1.  1.  1.  1. -1.  1. -1.  1.  1.  1. -1.]\n",
            "0\n",
            "[-1.  1.  1.  1. -1. -1.  1. -1. -1.  1. -1. -1. -1.  1.  1.]\n",
            "[-1.  1.  1.  1. -1. -1.  1. -1. -1.  1. -1. -1. -1.  1.  1.]\n",
            "0\n"
          ],
          "name": "stdout"
        }
      ]
    }
  ]
}