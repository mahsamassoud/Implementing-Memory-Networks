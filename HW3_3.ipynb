{
  "nbformat": 4,
  "nbformat_minor": 0,
  "metadata": {
    "colab": {
      "name": "HW3-3.ipynb",
      "provenance": []
    },
    "kernelspec": {
      "name": "python3",
      "display_name": "Python 3"
    },
    "language_info": {
      "name": "python"
    }
  },
  "cells": [
    {
      "cell_type": "code",
      "metadata": {
        "id": "T8SbXqTZj5_V"
      },
      "source": [
        "import numpy as np"
      ],
      "execution_count": null,
      "outputs": []
    },
    {
      "cell_type": "code",
      "metadata": {
        "id": "0G6HZqhakNnr"
      },
      "source": [
        "input_0 = -1 + 2 *np.matrix([[1, 1, 1, 1, 1, 1, 1, 1],\n",
        "                             [1, 1, 1, 1, 1, 1, 1, 1],\n",
        "                             [1, 1, 0, 0, 0, 0, 1, 1],\n",
        "                             [1, 1, 0, 0, 0, 0, 1, 1],\n",
        "                             [1, 1, 0, 0, 0, 0, 1, 1],\n",
        "                             [1, 1, 0, 0, 0, 0, 1, 1],\n",
        "                             [1, 1, 1, 1, 1, 1, 1, 1],\n",
        "                             [1, 1, 1, 1, 1, 1, 1, 1]])\n",
        "\n",
        "input_1 = -1 + 2 *np.matrix([[0, 0, 1, 1, 1, 0, 0, 0],\n",
        "                             [0, 0, 1, 1, 1, 0, 0, 0],\n",
        "                             [0, 0, 0, 1, 1, 0, 0, 0],\n",
        "                             [0, 0, 0, 1, 1, 0, 0, 0],\n",
        "                             [0, 0, 0, 1, 1, 0, 0, 0],\n",
        "                             [0, 0, 0, 1, 1, 0, 0, 0],\n",
        "                             [0, 0, 0, 1, 1, 0, 0, 0],\n",
        "                             [0, 0, 0, 1, 1, 0, 0, 0]])\n",
        "\n"
      ],
      "execution_count": null,
      "outputs": []
    },
    {
      "cell_type": "code",
      "metadata": {
        "id": "EFtlp0psk51q"
      },
      "source": [
        "sample = np.zeros((2, 64))\n",
        "sample[0] = input_0.flatten()\n",
        "sample[1] = input_1.flatten()\n"
      ],
      "execution_count": null,
      "outputs": []
    },
    {
      "cell_type": "code",
      "metadata": {
        "id": "wTLg6PEy2L9e",
        "colab": {
          "base_uri": "https://localhost:8080/",
          "height": 200
        },
        "outputId": "f1f7e225-2bd9-4708-ca62-9a0f3eb5fe00"
      },
      "source": [
        "import matplotlib.pyplot as plt\n",
        "for s in range(2):\n",
        "    plt.subplot2grid((1,2),(int(s/2),s%2))\n",
        "    plt.imshow(sample[s,:].reshape(8,8))\n",
        "plt.show()"
      ],
      "execution_count": null,
      "outputs": [
        {
          "output_type": "display_data",
          "data": {
            "image/png": "[encoded data removed]",
            "text/plain": [
              "<Figure size 432x288 with 2 Axes>"
            ]
          },
          "metadata": {
            "tags": [],
            "needs_background": "light"
          }
        }
      ]
    },
    {
      "cell_type": "code",
      "metadata": {
        "id": "gcHZDVSllK8p",
        "colab": {
          "base_uri": "https://localhost:8080/"
        },
        "outputId": "90da3b26-0d39-426b-e4bc-2327eb52c5f6"
      },
      "source": [
        "identity = np.identity(64)\n",
        "w = np.dot(sample.T, sample) - 2 * identity\n",
        "w = w/250\n",
        "w"
      ],
      "execution_count": null,
      "outputs": [
        {
          "output_type": "execute_result",
          "data": {
            "text/plain": [
              "array([[0.   , 0.008, 0.   , ..., 0.008, 0.008, 0.008],\n",
              "       [0.008, 0.   , 0.   , ..., 0.008, 0.008, 0.008],\n",
              "       [0.   , 0.   , 0.   , ..., 0.   , 0.   , 0.   ],\n",
              "       ...,\n",
              "       [0.008, 0.008, 0.   , ..., 0.   , 0.008, 0.008],\n",
              "       [0.008, 0.008, 0.   , ..., 0.008, 0.   , 0.008],\n",
              "       [0.008, 0.008, 0.   , ..., 0.008, 0.008, 0.   ]])"
            ]
          },
          "metadata": {
            "tags": []
          },
          "execution_count": 8
        }
      ]
    },
    {
      "cell_type": "code",
      "metadata": {
        "id": "VGBqlnwamUWl"
      },
      "source": [
        "y = np.array(sample)\n",
        "target = np.array(sample)\n",
        "\n",
        "y_in = np.zeros((2,64))"
      ],
      "execution_count": null,
      "outputs": []
    },
    {
      "cell_type": "code",
      "metadata": {
        "id": "UcM9w6cIol7N"
      },
      "source": [
        "def af(x,y):\n",
        "  if x > 0:\n",
        "    return 1\n",
        "  elif x < 0:\n",
        "    return -1\n",
        "  else:\n",
        "    return y"
      ],
      "execution_count": null,
      "outputs": []
    },
    {
      "cell_type": "code",
      "metadata": {
        "id": "h2zsT1GKp15T"
      },
      "source": [
        "flag = True\n",
        "for i in range (0, 2):\n",
        "  flag = True\n",
        "  while (flag):\n",
        "    ro = np.random.permutation(64) #random order\n",
        "    for j in range (0, 64):\n",
        "      sum_ = 0\n",
        "      for k in range (0, 64):\n",
        "        sum_ = sum_ + y[i, k] * w[k, ro[j]] \n",
        "      y_in[i, ro[j]] = sum_ + y[i, ro[j]]\n",
        "      y[i, ro[j]] = af(y_in[i, ro[j]], y[i, ro[j]])\n",
        "      if target[i, ro[j]] == y[i, ro[j]]:\n",
        "        flag = False"
      ],
      "execution_count": null,
      "outputs": []
    },
    {
      "cell_type": "code",
      "metadata": {
        "id": "OKVwFxUD08UO",
        "colab": {
          "base_uri": "https://localhost:8080/",
          "height": 200
        },
        "outputId": "ea04630d-8e11-4f7d-e279-df6bc274d4fd"
      },
      "source": [
        "for ss in range(2):\n",
        "    plt.subplot2grid((1,2),(int(ss/2),ss%2))\n",
        "    plt.imshow(y[ss,:].reshape(8,8))\n",
        "plt.show()"
      ],
      "execution_count": null,
      "outputs": [
        {
          "output_type": "display_data",
          "data": {
            "image/png": "[encoded data removed]",
            "text/plain": [
              "<Figure size 432x288 with 2 Axes>"
            ]
          },
          "metadata": {
            "tags": [],
            "needs_background": "light"
          }
        }
      ]
    },
    {
      "cell_type": "code",
      "metadata": {
        "id": "6R9IzMfe1p2H"
      },
      "source": [
        "#part b: #NOISE\n",
        "NUM =20"
      ],
      "execution_count": null,
      "outputs": []
    },
    {
      "cell_type": "code",
      "metadata": {
        "id": "_uU98N7z0vkH"
      },
      "source": [
        "input_0 = -1 + 2 *np.matrix([[1, 1, 1, 1, 1, 1, 1, 1],\n",
        "                             [1, 1, 1, 1, 1, 1, 1, 1],\n",
        "                             [1, 1, 0, 0, 0, 0, 1, 1],\n",
        "                             [1, 1, 0, 0, 0, 0, 1, 1],\n",
        "                             [1, 1, 0, 0, 0, 0, 1, 1],\n",
        "                             [1, 1, 0, 0, 0, 0, 1, 1],\n",
        "                             [1, 1, 1, 1, 1, 1, 1, 1],\n",
        "                             [1, 1, 1, 1, 1, 1, 1, 1]])\n",
        "\n",
        "input_1 = -1 + 2 *np.matrix([[0, 0, 1, 1, 1, 0, 0, 0],\n",
        "                             [0, 0, 1, 1, 1, 0, 0, 0],\n",
        "                             [0, 0, 0, 1, 1, 0, 0, 0],\n",
        "                             [0, 0, 0, 1, 1, 0, 0, 0],\n",
        "                             [0, 0, 0, 1, 1, 0, 0, 0],\n",
        "                             [0, 0, 0, 1, 1, 0, 0, 0],\n",
        "                             [0, 0, 0, 1, 1, 0, 0, 0],\n",
        "                             [0, 0, 0, 1, 1, 0, 0, 0]])\n",
        "\n"
      ],
      "execution_count": null,
      "outputs": []
    },
    {
      "cell_type": "code",
      "metadata": {
        "id": "LvKw_qV903zk"
      },
      "source": [
        "sample = np.zeros((2, 64))\n",
        "sample[0] = input_0.flatten()\n",
        "sample[1] = input_1.flatten()\n"
      ],
      "execution_count": null,
      "outputs": []
    },
    {
      "cell_type": "code",
      "metadata": {
        "id": "IXP3ig0Y04b4"
      },
      "source": [
        "identity = np.identity(64)\n",
        "w = np.dot(sample.T, sample) - 2 * identity\n",
        "w = w/250"
      ],
      "execution_count": null,
      "outputs": []
    },
    {
      "cell_type": "code",
      "metadata": {
        "id": "96_envZH1DqZ"
      },
      "source": [
        ""
      ],
      "execution_count": null,
      "outputs": []
    },
    {
      "cell_type": "code",
      "metadata": {
        "id": "nsvOkhAZ1FKR"
      },
      "source": [
        "n_sample = np.zeros((2, 64))"
      ],
      "execution_count": null,
      "outputs": []
    },
    {
      "cell_type": "code",
      "metadata": {
        "id": "MSp6oaXG3STM"
      },
      "source": [
        "n_sample[0] = input_0.flatten()\n",
        "n_sample[1] = input_1.flatten()\n"
      ],
      "execution_count": null,
      "outputs": []
    },
    {
      "cell_type": "code",
      "metadata": {
        "id": "hRf5F1PU2SRV"
      },
      "source": [
        "index_0 = np.random.choice(64 , NUM, replace = False)\n",
        "# print(index_3)\n",
        "for j in range(NUM):\n",
        "  n_sample[0, index_0[j]] = 0"
      ],
      "execution_count": null,
      "outputs": []
    },
    {
      "cell_type": "code",
      "metadata": {
        "id": "qp3UjgXu2SZS"
      },
      "source": [
        "index_1 = np.random.choice(64 , NUM, replace = False)\n",
        "# print(index_6)\n",
        "for j in range(NUM):\n",
        "  n_sample[1, index_1[j]] = 0"
      ],
      "execution_count": null,
      "outputs": []
    },
    {
      "cell_type": "code",
      "metadata": {
        "id": "IwvqOAgT2Sbi"
      },
      "source": [
        ""
      ],
      "execution_count": null,
      "outputs": []
    },
    {
      "cell_type": "code",
      "metadata": {
        "id": "aJ2K7sQN4PzX",
        "colab": {
          "base_uri": "https://localhost:8080/",
          "height": 200
        },
        "outputId": "0d4e9035-c2af-4727-da87-287db585e6e7"
      },
      "source": [
        "import matplotlib.pyplot as plt\n",
        "for s in range(2):\n",
        "    plt.subplot2grid((1,2),(int(s/2),s%2))\n",
        "    plt.imshow(n_sample[s,:].reshape(8,8))\n",
        "plt.show()"
      ],
      "execution_count": null,
      "outputs": [
        {
          "output_type": "display_data",
          "data": {
            "image/png": "[encoded data removed]",
            "text/plain": [
              "<Figure size 432x288 with 2 Axes>"
            ]
          },
          "metadata": {
            "tags": [],
            "needs_background": "light"
          }
        }
      ]
    },
    {
      "cell_type": "code",
      "metadata": {
        "id": "jn2TDXXq4eFE"
      },
      "source": [
        "y = np.array(n_sample)\n",
        "target = np.array(n_sample)\n",
        "\n",
        "y_in = np.zeros((2,64))"
      ],
      "execution_count": null,
      "outputs": []
    },
    {
      "cell_type": "code",
      "metadata": {
        "id": "nMVX8dFz4Qo_"
      },
      "source": [
        "flag = True\n",
        "for i in range (0, 2):\n",
        "  flag = True\n",
        "  while (flag):\n",
        "    ro = np.random.permutation(64) #random order\n",
        "    for j in range (0, 64):\n",
        "      sum_ = 0\n",
        "      for k in range (0, 64):\n",
        "        sum_ = sum_ + y[i, k] * w[k, ro[j]] \n",
        "      y_in[i, ro[j]] = sum_ + y[i, ro[j]]\n",
        "      y[i, ro[j]] = af(y_in[i, ro[j]], y[i, ro[j]])\n",
        "      if target[i, ro[j]] == y[i, ro[j]]:\n",
        "        flag = False"
      ],
      "execution_count": null,
      "outputs": []
    },
    {
      "cell_type": "code",
      "metadata": {
        "id": "5NKAu-zs4nUT",
        "colab": {
          "base_uri": "https://localhost:8080/",
          "height": 200
        },
        "outputId": "2471e428-485d-4d50-a2bf-7eb1a81d5a75"
      },
      "source": [
        "for ss in range(2):\n",
        "    plt.subplot2grid((1,2),(int(ss/2),ss%2))\n",
        "    plt.imshow(y[ss,:].reshape(8,8))\n",
        "plt.show()"
      ],
      "execution_count": null,
      "outputs": [
        {
          "output_type": "display_data",
          "data": {
            "image/png": "[encoded data removed]",
            "text/plain": [
              "<Figure size 432x288 with 2 Axes>"
            ]
          },
          "metadata": {
            "tags": [],
            "needs_background": "light"
          }
        }
      ]
    }
  ]
}